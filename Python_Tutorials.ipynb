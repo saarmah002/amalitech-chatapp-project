{
  "nbformat": 4,
  "nbformat_minor": 0,
  "metadata": {
    "colab": {
      "provenance": [],
      "authorship_tag": "ABX9TyM3zfWsOFRrum1AXrpqSbxb",
      "include_colab_link": true
    },
    "kernelspec": {
      "name": "python3",
      "display_name": "Python 3"
    },
    "language_info": {
      "name": "python"
    }
  },
  "cells": [
    {
      "cell_type": "markdown",
      "metadata": {
        "id": "view-in-github",
        "colab_type": "text"
      },
      "source": [
        "<a href=\"https://colab.research.google.com/github/saarmah002/amalitech-chatapp-project/blob/main/Python_Tutorials.ipynb\" target=\"_parent\"><img src=\"https://colab.research.google.com/assets/colab-badge.svg\" alt=\"Open In Colab\"/></a>"
      ]
    },
    {
      "cell_type": "code",
      "execution_count": 1,
      "metadata": {
        "colab": {
          "base_uri": "https://localhost:8080/"
        },
        "id": "eazMN23vLKp6",
        "outputId": "60331c0a-a35f-4b3d-e903-258c8f370140"
      },
      "outputs": [
        {
          "output_type": "stream",
          "name": "stdout",
          "text": [
            "Python is very very fantastic\n",
            "Python is very fantastic\n"
          ]
        }
      ],
      "source": [
        "x= \"awesome\"\n",
        "def myfunc():\n",
        "  global x\n",
        "  x= \"fantastic\"\n",
        "  print(\"Python is very very \" + x)\n",
        "\n",
        "myfunc()\n",
        "print (\"Python is very \" + x)"
      ]
    },
    {
      "cell_type": "code",
      "source": [
        "import random\n",
        "\n",
        "print (random.randrange(8, 10))"
      ],
      "metadata": {
        "colab": {
          "base_uri": "https://localhost:8080/"
        },
        "id": "QKpx4rURRTRN",
        "outputId": "27d9ff8d-2922-47a5-8a56-58a6885e46bd"
      },
      "execution_count": 15,
      "outputs": [
        {
          "output_type": "stream",
          "name": "stdout",
          "text": [
            "8\n"
          ]
        }
      ]
    },
    {
      "cell_type": "code",
      "source": [
        "a =\"Hello,world!\"\n",
        "print(a[3], a[6])\n"
      ],
      "metadata": {
        "colab": {
          "base_uri": "https://localhost:8080/"
        },
        "id": "6DpELRsieYS-",
        "outputId": "03d809a7-ea80-4860-a75d-a1c5034d0992"
      },
      "execution_count": 21,
      "outputs": [
        {
          "output_type": "stream",
          "name": "stdout",
          "text": [
            "l w\n"
          ]
        }
      ]
    },
    {
      "cell_type": "code",
      "source": [
        "for y in \"banana\":\n",
        "  \n",
        "  print (y)"
      ],
      "metadata": {
        "colab": {
          "base_uri": "https://localhost:8080/"
        },
        "id": "ZFJZRNust9eb",
        "outputId": "24562b64-65f0-40e9-ad67-c3f8da206ce5"
      },
      "execution_count": 25,
      "outputs": [
        {
          "output_type": "stream",
          "name": "stdout",
          "text": [
            "b\n",
            "a\n",
            "n\n",
            "a\n",
            "n\n",
            "a\n"
          ]
        }
      ]
    },
    {
      "cell_type": "code",
      "source": [
        "a= \"Python is very awesome\"\n",
        "print (len(a))"
      ],
      "metadata": {
        "colab": {
          "base_uri": "https://localhost:8080/"
        },
        "id": "SetMF69Ewg3D",
        "outputId": "3a22eed4-0705-4e85-ef60-133cbbe91209"
      },
      "execution_count": 26,
      "outputs": [
        {
          "output_type": "stream",
          "name": "stdout",
          "text": [
            "22\n"
          ]
        }
      ]
    },
    {
      "cell_type": "code",
      "source": [
        "txt= \"The love of football is very awesome\"\n",
        "print(\"football\" in txt)"
      ],
      "metadata": {
        "colab": {
          "base_uri": "https://localhost:8080/"
        },
        "id": "lk9lIyyMy8sI",
        "outputId": "1755677b-5d3d-4175-8b74-d2dd246aa730"
      },
      "execution_count": 27,
      "outputs": [
        {
          "output_type": "stream",
          "name": "stdout",
          "text": [
            "True\n"
          ]
        }
      ]
    },
    {
      "cell_type": "code",
      "source": [],
      "metadata": {
        "id": "gAHbWFIy1OPA"
      },
      "execution_count": null,
      "outputs": []
    }
  ]
}